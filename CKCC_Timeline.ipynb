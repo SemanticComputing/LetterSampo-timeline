{
  "nbformat": 4,
  "nbformat_minor": 0,
  "metadata": {
    "colab": {
      "provenance": [],
      "toc_visible": true,
      "include_colab_link": true
    },
    "kernelspec": {
      "name": "python3",
      "display_name": "Python 3"
    }
  },
  "cells": [
    {
      "cell_type": "markdown",
      "metadata": {
        "id": "view-in-github",
        "colab_type": "text"
      },
      "source": [
        "<a href=\"https://colab.research.google.com/github/SemanticComputing/LetterSampo-timeline/blob/main/CKCC_Timeline.ipynb\" target=\"_parent\"><img src=\"https://colab.research.google.com/assets/colab-badge.svg\" alt=\"Open In Colab\"/></a>"
      ]
    },
    {
      "cell_type": "markdown",
      "source": [
        "# Installations and Imports"
      ],
      "metadata": {
        "id": "e99MDoZicUrV"
      }
    },
    {
      "cell_type": "code",
      "metadata": {
        "id": "oUH2CWD7KKzE"
      },
      "source": [
        "!pip install matplotlib rdflib networkx"
      ],
      "execution_count": null,
      "outputs": []
    },
    {
      "cell_type": "code",
      "source": [
        "!pip install SPARQLWrapper"
      ],
      "metadata": {
        "id": "drKwxApr10BR"
      },
      "execution_count": null,
      "outputs": []
    },
    {
      "cell_type": "code",
      "metadata": {
        "id": "LiZOwrdSKr9u"
      },
      "source": [
        "import matplotlib\n",
        "import matplotlib.pyplot as plt\n",
        "import networkx as nx\n",
        "import numpy as np\n",
        "import re\n",
        "\n",
        "from collections import defaultdict\n",
        "from datetime import datetime\n",
        "from itertools import product, combinations\n",
        "from rdflib.namespace import XSD\n",
        "from SPARQLWrapper import SPARQLWrapper, JSON"
      ],
      "execution_count": null,
      "outputs": []
    },
    {
      "cell_type": "markdown",
      "metadata": {
        "id": "Y-o-avYc3ZGP"
      },
      "source": [
        "# Functions"
      ]
    },
    {
      "cell_type": "code",
      "metadata": {
        "id": "o_mDgfZD3bmh"
      },
      "source": [
        "def checkDate(v : str):\n",
        "  try:\n",
        "    d = datetime.strptime(v, '%Y-%m-%dT%H:%M:%S').date()\n",
        "  except ValueError:\n",
        "    m = re.match(r'(\\d{4})-(\\d{2})-(\\d{2})', v)\n",
        "    d = datetime(int(m.groups()[0]), int(m.groups()[1]), 28).date()\n",
        "  return d\n",
        "\n",
        "\n",
        "DATATYPECONVERTERS : dict = {\n",
        "      str(XSD.integer):  int,\n",
        "      str(XSD.decimal):  float,\n",
        "      str(XSD.date):     lambda v: datetime.strptime(v, '%Y-%m-%d').date(),\n",
        "      str(XSD.dateTime): checkDate\n",
        "  }\n",
        "\n",
        "\n",
        "def convertDatatype(obj):\n",
        "  return DATATYPECONVERTERS.get(obj.get('datatype'), str)(obj.get('value'))\n",
        "\n",
        "\n",
        "def convertDatatypes(results : list) -> list:\n",
        "    res = results[\"results\"][\"bindings\"]\n",
        "    return [dict([(k, convertDatatype(v)) for k,v in r.items()]) for r in res]"
      ],
      "execution_count": null,
      "outputs": []
    },
    {
      "cell_type": "code",
      "metadata": {
        "id": "VdTfxBcDFTOC"
      },
      "source": [
        "def simplifyLabel(st):\n",
        "  '''Simplify the label of an actor by removing text in parenthesis and numbers after the name'''\n",
        "  st = re.sub(r'[,0-9 -]+$', '', st)\n",
        "  st = re.sub(r' \\([^)]+\\)', '', st)\n",
        "  st = re.sub(r', ([a-z.]+)$', '', st)\n",
        "  return st"
      ],
      "execution_count": null,
      "outputs": []
    },
    {
      "cell_type": "markdown",
      "metadata": {
        "id": "fsgryN49FQz2"
      },
      "source": [
        "# Query the Data\n",
        "\n",
        "All letters with information about the senders and recipients\n",
        "\n",
        "try it in Yasgui: https://api.triplydb.com/s/PECPM8eKe\n"
      ]
    },
    {
      "cell_type": "code",
      "metadata": {
        "id": "I4Qaq0IMKzl9"
      },
      "source": [
        "sparql = SPARQLWrapper(\"http://ldf.fi/ckcc/sparql\",\n",
        "                       returnFormat = JSON)\n",
        "sparql.setQuery(\"\"\"\n",
        "  PREFIX crm: <http://www.cidoc-crm.org/cidoc-crm/>\n",
        "  PREFIX skos: <http://www.w3.org/2004/02/skos/core#>\n",
        "  PREFIX lsscs: <http://ldf.fi/schema/lssc/>\n",
        "\n",
        "  SELECT DISTINCT *\n",
        "  WHERE {\n",
        "      ?id a lsscs:Letter ;\n",
        "        ^lsscs:created ?sender__id ;\n",
        "        lsscs:was_addressed_to ?receiver__id ;\n",
        "        lsscs:has_time  [\n",
        "            crm:P82a_begin_of_the_begin ?start ;\n",
        "            crm:P82b_end_of_the_end ?end ] .\n",
        "\n",
        "      FILTER(STR(?start) >= \"1600\")\n",
        "\n",
        "      ?sender__id skos:prefLabel ?sender__label .\n",
        "      ?receiver__id skos:prefLabel ?receiver__label .\n",
        "\n",
        "  } LIMIT 25000\n",
        "  \"\"\")\n",
        "results = sparql.query().convert()\n",
        "\n",
        "print(\"Query returned {} results\".format(len(results[\"results\"][\"bindings\"])))\n",
        "\n",
        "for ob in results[\"results\"][\"bindings\"][:10]:\n",
        "  print(ob)"
      ],
      "execution_count": null,
      "outputs": []
    },
    {
      "cell_type": "code",
      "source": [
        "# convert the result datatypes and print examples\n",
        "res = convertDatatypes(results)\n",
        "\n",
        "for ob in res[:10]:\n",
        "  print(ob)"
      ],
      "metadata": {
        "id": "m_mwDqsCQbSi"
      },
      "execution_count": null,
      "outputs": []
    },
    {
      "cell_type": "code",
      "source": [
        "'''Create a dictionary where the keys are the ID, and the values are the person names'''\n",
        "people_lookup = {}\n",
        "\n",
        "for ob in res:\n",
        "  ob['sender__label'] = simplifyLabel(ob.get('sender__label'))\n",
        "  ob['receiver__label'] = simplifyLabel(ob.get('receiver__label'))\n",
        "  ob['year'] = ob.get('start').year\n",
        "\n",
        "  people_lookup[ob.get('sender__id')] = ob.get('sender__label')\n",
        "  people_lookup[ob.get('receiver__id')] = ob.get('receiver__label')"
      ],
      "metadata": {
        "id": "olPoLHEczeHz"
      },
      "execution_count": null,
      "outputs": []
    },
    {
      "cell_type": "markdown",
      "source": [
        "## Number of top people to consider"
      ],
      "metadata": {
        "id": "nCg-SsrpLyQ_"
      }
    },
    {
      "cell_type": "code",
      "source": [
        "top_n_people = 12"
      ],
      "metadata": {
        "id": "OvWxVZzxLwhn"
      },
      "execution_count": null,
      "outputs": []
    },
    {
      "cell_type": "code",
      "source": [
        "''' show example of people lookup '''\n",
        "for k, dc in list(people_lookup.items())[:top_n_people]:\n",
        "  print(f'{k}\\t{dc}')"
      ],
      "metadata": {
        "id": "7WrEXARSLrnL"
      },
      "execution_count": null,
      "outputs": []
    },
    {
      "cell_type": "code",
      "source": [
        "def get_year_information(data: dict,\n",
        "                         start_year: int,\n",
        "                         end_year: int,\n",
        "                         number_of_people: int = 12) -> dict:\n",
        "  '''Get the people with the highest degree values in a correspondence network\n",
        "  constructed by correspondences during a defined year range.\n",
        "  '''\n",
        "  G = nx.DiGraph()\n",
        "\n",
        "  G.add_edges_from(((ob.get('sender__id'), ob.get('receiver__id')) for ob in data if start_year <= ob.get('year') < end_year))\n",
        "\n",
        "  dct = nx.degree(G)\n",
        "\n",
        "  arr = sorted(dict(dct).items(),\n",
        "               key = lambda x: x[-1],\n",
        "               reverse=True)[:number_of_people]\n",
        "\n",
        "  if len(arr):\n",
        "      v_max = max([x for _,x in arr])\n",
        "      # normalize the degree values so that #1 person has the value of 1.0\n",
        "      return dict(((k, v/v_max) for k,v in arr))\n",
        "  else:\n",
        "      return {}\n",
        "\n",
        "\n",
        "# show example output of the function\n",
        "get_year_information(res,\n",
        "                     start_year = 1690,\n",
        "                     end_year = 1695,\n",
        "                     number_of_people = top_n_people)"
      ],
      "metadata": {
        "id": "wLLpZbx50jGg"
      },
      "execution_count": null,
      "outputs": []
    },
    {
      "cell_type": "code",
      "source": [
        "start_year, end_year = 1580, 1720\n",
        "year_span = 2.5\n",
        "year_data = {}\n",
        "\n",
        "for start_year in np.arange(start_year, end_year, year_span):\n",
        "  year_data[start_year] = get_year_information(res,\n",
        "                                               start_year = start_year,\n",
        "                                               end_year = start_year+year_span,\n",
        "                                               number_of_people = top_n_people)\n",
        "\n",
        "first_year_of_person = defaultdict(list)\n",
        "for y, arr in year_data.items():\n",
        "  if arr:\n",
        "    for x,_ in arr.items():\n",
        "      first_year_of_person[x].append(y)\n",
        "\n",
        "people_list = [k for k,_ in sorted(((k, min(arr)) for k, arr in first_year_of_person.items()), key = lambda x: x[-1])]\n",
        "\n",
        "# show top10 examples of actors along the time period start_year – end_year\n",
        "people_list[:10]"
      ],
      "metadata": {
        "id": "Z3AXB36C4Snt"
      },
      "execution_count": null,
      "outputs": []
    },
    {
      "cell_type": "markdown",
      "source": [
        "## Plot the results"
      ],
      "metadata": {
        "id": "o9XRjXCAfuq8"
      }
    },
    {
      "cell_type": "code",
      "metadata": {
        "id": "0QRqoXVUK5Gy"
      },
      "source": [
        "'''\n",
        "plot by degree value:\n",
        "Y = year\n",
        "X = actor index\n",
        "Z/color = actor's rank at year Y\n",
        "'''\n",
        "YXZ = [(y, people_list.index(x), i) for y, arr in year_data.items() for x, i in arr.items()]\n",
        "Y, X, colors = zip(*YXZ)\n",
        "\n",
        "# set colorbar\n",
        "colormap = matplotlib.colors.LinearSegmentedColormap.from_list(\"\", [\"blue\",\"yellow\",\"red\"])\n",
        "\n",
        "# define the scatter plot\n",
        "fig = plt.figure(figsize = [36.0, 13.0])\n",
        "ax = fig.add_subplot()\n",
        "sc = ax.scatter(X, Y, c = colors, cmap = colormap, s = 50.0)\n",
        "plt.colorbar(sc)\n",
        "\n",
        "# vertical actor labels below the plot\n",
        "plt.xticks(ticks = [i for i,_ in enumerate(people_list)],\n",
        "           labels = [people_lookup.get(x, '') for x in people_list],\n",
        "           fontsize = 7,\n",
        "           rotation = 90)\n",
        "\n",
        "# size of years on y-axis\n",
        "plt.yticks(fontsize = 18)\n",
        "\n",
        "# save image\n",
        "plt.savefig(\"Timeline_CKCC.png\", dpi = None, transparent = False, bbox_inches = 'tight')\n",
        "\n",
        "# show output\n",
        "plt.show()\n"
      ],
      "execution_count": null,
      "outputs": []
    }
  ]
}